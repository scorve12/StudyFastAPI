{
 "cells": [
  {
   "cell_type": "code",
   "execution_count": 1,
   "metadata": {},
   "outputs": [
    {
     "ename": "NameError",
     "evalue": "name 'db' is not defined",
     "output_type": "error",
     "traceback": [
      "\u001b[1;31m---------------------------------------------------------------------------\u001b[0m",
      "\u001b[1;31mNameError\u001b[0m                                 Traceback (most recent call last)",
      "Cell \u001b[1;32mIn[1], line 6\u001b[0m\n\u001b[0;32m      3\u001b[0m \u001b[38;5;28;01mfrom\u001b[39;00m \u001b[38;5;21;01mdatabase\u001b[39;00m \u001b[38;5;28;01mimport\u001b[39;00m SessionLocal\n\u001b[0;32m      5\u001b[0m \u001b[38;5;66;03m#초기화\u001b[39;00m\n\u001b[1;32m----> 6\u001b[0m q \u001b[38;5;241m=\u001b[39m \u001b[43mdb\u001b[49m\u001b[38;5;241m.\u001b[39mquery(Question)\u001b[38;5;241m.\u001b[39mall()\n\u001b[0;32m      7\u001b[0m a \u001b[38;5;241m=\u001b[39m db\u001b[38;5;241m.\u001b[39mquery(Answer)\u001b[38;5;241m.\u001b[39mall()\n",
      "\u001b[1;31mNameError\u001b[0m: name 'db' is not defined"
     ]
    }
   ],
   "source": [
    "from models import Question, Answer\n",
    "from datetime import datetime\n",
    "from database import SessionLocal\n",
    "\n",
    "#SQLAlchemy에서 세션 관리\n",
    "db = SessionLocal()\n",
    "\n",
    "#초기화\n",
    "# 모든 Question 객체 삭제\n",
    "questions = db.query(Question).all()\n",
    "for question in questions:\n",
    "    db.delete(question)\n",
    "\n",
    "# 모든 Answer 객체 삭제\n",
    "answers = db.query(Answer).all()\n",
    "for answer in answers:\n",
    "    db.delete(answer)\n",
    "\n",
    "# 변경 사항을 데이터베이스에 커밋\n",
    "db.commit()"
   ]
  },
  {
   "cell_type": "code",
   "execution_count": null,
   "metadata": {},
   "outputs": [],
   "source": [
    "q = Question(subject='pybo가 무엇인가요?', content='pybo에 대해서 알고 싶습니다.', create_date=datetime.now())"
   ]
  },
  {
   "cell_type": "code",
   "execution_count": null,
   "metadata": {},
   "outputs": [],
   "source": [
    "\n",
    "\n",
    "\n",
    "db.add(q)\n",
    "db.commit()"
   ]
  },
  {
   "cell_type": "code",
   "execution_count": null,
   "metadata": {},
   "outputs": [],
   "source": [
    "q.id"
   ]
  },
  {
   "cell_type": "code",
   "execution_count": null,
   "metadata": {},
   "outputs": [],
   "source": [
    "q = Question(subject = 'FastAPI 모델 질문입니다.', content='id는 자동으로 생성되나요?', create_date=datetime.now())\n",
    "db.add(q)\n",
    "db.commit()\n",
    "q.id"
   ]
  },
  {
   "cell_type": "markdown",
   "metadata": {},
   "source": [
    "### 커밋(commit)과 롤백(rollback)\n",
    "커밋은 취소할 수 없다는 점에 유의하자. 커밋은 일종의 \"결정사인\" 역할을 한다고 생각하면 이해하기 쉽다. 그래서 수행한 작업을 취소하려면 커밋 이전에 진행해야 한다. 이때 작업을 취소하고 싶으면 db.rollback()으로 되돌리기(롤백)를 실행하면 된다."
   ]
  },
  {
   "cell_type": "code",
   "execution_count": null,
   "metadata": {},
   "outputs": [],
   "source": [
    "db.query(Question).all() #데이터 조회"
   ]
  },
  {
   "cell_type": "code",
   "execution_count": null,
   "metadata": {},
   "outputs": [],
   "source": [
    "db.query(Question).filter(Question.id==1).all()\n"
   ]
  },
  {
   "cell_type": "code",
   "execution_count": null,
   "metadata": {},
   "outputs": [],
   "source": [
    "db.query(Question).filter(Question.subject.like('%FastAPI%')).all()"
   ]
  },
  {
   "cell_type": "markdown",
   "metadata": {},
   "source": [
    "FastAPI%: \"FastAPI\"로 시작하는 문자열\n",
    "%FastAPI: \"FastAPI\"로 끝나는 문자열\n",
    "%FastAPI%: \"FastAPI\"를 포함하는 문자열"
   ]
  },
  {
   "cell_type": "code",
   "execution_count": null,
   "metadata": {},
   "outputs": [],
   "source": [
    "#데이터 수정\n",
    "q = db.query(Question).get(2)\n",
    "q.id"
   ]
  },
  {
   "cell_type": "code",
   "execution_count": null,
   "metadata": {},
   "outputs": [],
   "source": [
    "q.subject = 'FastAPI Model Question'\n",
    "db.commit()\n"
   ]
  },
  {
   "cell_type": "markdown",
   "metadata": {},
   "source": [
    "#### 데이터 삭제하기"
   ]
  },
  {
   "cell_type": "code",
   "execution_count": null,
   "metadata": {},
   "outputs": [],
   "source": [
    "q = db.query(Question).get(1)\n",
    "db.delete(q)\n",
    "db.commit()"
   ]
  },
  {
   "cell_type": "code",
   "execution_count": null,
   "metadata": {},
   "outputs": [],
   "source": [
    "db.query(Question).all()"
   ]
  },
  {
   "cell_type": "markdown",
   "metadata": {},
   "source": [
    "#### 답변 데이터 저장하기"
   ]
  },
  {
   "cell_type": "code",
   "execution_count": 11,
   "metadata": {},
   "outputs": [
    {
     "name": "stderr",
     "output_type": "stream",
     "text": [
      "C:\\Users\\admin\\AppData\\Local\\Temp\\ipykernel_4252\\2783173650.py:6: LegacyAPIWarning: The Query.get() method is considered legacy as of the 1.x series of SQLAlchemy and becomes a legacy construct in 2.0. The method is now available as Session.get() (deprecated since: 2.0) (Background on SQLAlchemy 2.0 at: https://sqlalche.me/e/b8d9)\n",
      "  q = db.query(Question).get(2)\n"
     ]
    }
   ],
   "source": [
    "from datetime import datetime\n",
    "from models import Question, Answer\n",
    "from database import SessionLocal\n",
    "\n",
    "db = SessionLocal()\n",
    "q = db.query(Question).get(2)\n",
    "a = Answer(question=q, content='네 자동으로 생성됩니다.', create_date=datetime.now())\n",
    "db.add(a)\n",
    "db.commit()"
   ]
  },
  {
   "cell_type": "code",
   "execution_count": 12,
   "metadata": {},
   "outputs": [
    {
     "data": {
      "text/plain": [
       "1"
      ]
     },
     "execution_count": 12,
     "metadata": {},
     "output_type": "execute_result"
    }
   ],
   "source": [
    "a.id"
   ]
  },
  {
   "cell_type": "code",
   "execution_count": 13,
   "metadata": {},
   "outputs": [
    {
     "name": "stderr",
     "output_type": "stream",
     "text": [
      "C:\\Users\\admin\\AppData\\Local\\Temp\\ipykernel_4252\\600179488.py:1: LegacyAPIWarning: The Query.get() method is considered legacy as of the 1.x series of SQLAlchemy and becomes a legacy construct in 2.0. The method is now available as Session.get() (deprecated since: 2.0) (Background on SQLAlchemy 2.0 at: https://sqlalche.me/e/b8d9)\n",
      "  a = db.query(Answer).get(1)\n"
     ]
    },
    {
     "data": {
      "text/plain": [
       "<models.Answer at 0x16858a1fe30>"
      ]
     },
     "execution_count": 13,
     "metadata": {},
     "output_type": "execute_result"
    }
   ],
   "source": [
    "a = db.query(Answer).get(1)\n",
    "a"
   ]
  },
  {
   "cell_type": "markdown",
   "metadata": {},
   "source": [
    "#### 답변에 연결된 질문 찾기 vs 질문에 달린 답변찾기"
   ]
  },
  {
   "cell_type": "code",
   "execution_count": null,
   "metadata": {},
   "outputs": [],
   "source": [
    "a.question"
   ]
  },
  {
   "cell_type": "code",
   "execution_count": null,
   "metadata": {},
   "outputs": [],
   "source": [
    "q.answers"
   ]
  }
 ],
 "metadata": {
  "kernelspec": {
   "display_name": "Python 3",
   "language": "python",
   "name": "python3"
  },
  "language_info": {
   "codemirror_mode": {
    "name": "ipython",
    "version": 3
   },
   "file_extension": ".py",
   "mimetype": "text/x-python",
   "name": "python",
   "nbconvert_exporter": "python",
   "pygments_lexer": "ipython3",
   "version": "3.12.4"
  }
 },
 "nbformat": 4,
 "nbformat_minor": 2
}
